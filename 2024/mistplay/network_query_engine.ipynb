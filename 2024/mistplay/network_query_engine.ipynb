{
 "cells": [
  {
   "cell_type": "markdown",
   "id": "27beb3c1-4d05-4645-85e5-60c28bdaaae2",
   "metadata": {},
   "source": [
    "# NetworkQueryEngine Demo"
   ]
  },
  {
   "cell_type": "code",
   "execution_count": 1,
   "id": "912fbf7c-e77d-4cfb-8e22-bba449d422a8",
   "metadata": {},
   "outputs": [
    {
     "name": "stdout",
     "output_type": "stream",
     "text": [
      "\u001b[33mWARNING: pydantic 2.6.3 does not provide the extra 'dotenv'\u001b[0m\u001b[33m\n",
      "\u001b[0m\n",
      "\u001b[1m[\u001b[0m\u001b[34;49mnotice\u001b[0m\u001b[1;39;49m]\u001b[0m\u001b[39;49m A new release of pip available: \u001b[0m\u001b[31;49m22.3.1\u001b[0m\u001b[39;49m -> \u001b[0m\u001b[32;49m24.0\u001b[0m\n",
      "\u001b[1m[\u001b[0m\u001b[34;49mnotice\u001b[0m\u001b[1;39;49m]\u001b[0m\u001b[39;49m To update, run: \u001b[0m\u001b[32;49mpython3.11 -m pip install --upgrade pip\u001b[0m\n",
      "Note: you may need to restart the kernel to use updated packages.\n"
     ]
    }
   ],
   "source": [
    "%pip install llama-index-networks -q"
   ]
  },
  {
   "cell_type": "code",
   "execution_count": 2,
   "id": "ff743622-6887-4121-8049-44110b366f06",
   "metadata": {},
   "outputs": [],
   "source": [
    "import os\n",
    "from llama_index.networks import (\n",
    "    NetworkQueryEngine,\n",
    "    ContributorClient,\n",
    ")\n",
    "from llama_index.llms.openai import OpenAI"
   ]
  },
  {
   "cell_type": "code",
   "execution_count": 3,
   "id": "ee0673fd-2bcc-4a45-8caa-a2714377ac5c",
   "metadata": {},
   "outputs": [],
   "source": [
    "import nest_asyncio\n",
    "\n",
    "nest_asyncio.apply()"
   ]
  },
  {
   "cell_type": "code",
   "execution_count": 4,
   "id": "c1c19958-cb5d-49b4-af8a-76265f108286",
   "metadata": {},
   "outputs": [],
   "source": [
    "# setup ContributorClients to connect to ContributorServices\n",
    "contributors = [\n",
    "    ContributorClient.from_config_file(\n",
    "        env_file=f\"./client-env-files/.env.contributor_{ix}.client\"\n",
    "    )\n",
    "    for ix in range(1, 4)\n",
    "]"
   ]
  },
  {
   "cell_type": "code",
   "execution_count": 5,
   "id": "ce075783-b9bc-4dbb-b982-e6c2c47a8a40",
   "metadata": {},
   "outputs": [],
   "source": [
    "# build NetworkRAG\n",
    "api_key = os.environ.get(\"OPENAI_API_KEY\")\n",
    "llm = OpenAI(api_key=api_key)\n",
    "network_query_engine = NetworkQueryEngine.from_args(contributors=contributors, llm=llm)"
   ]
  },
  {
   "cell_type": "code",
   "execution_count": 6,
   "id": "05350567-a369-4274-9574-cecb194f1d7d",
   "metadata": {},
   "outputs": [],
   "source": [
    "# knowledge from contributor 1\n",
    "response = await network_query_engine.aquery(\"Who is Paul?\")"
   ]
  },
  {
   "cell_type": "code",
   "execution_count": 7,
   "id": "9ccb68f2-2c65-4074-bb7f-5c411ab8ef5c",
   "metadata": {},
   "outputs": [
    {
     "data": {
      "text/plain": [
       "\"Paul is a person who has been involved in various ventures such as painting, starting companies like Viaweb, and working on web applications. He also delved into writing essays and realized the potential of publishing them online. Paul's experiences led him to focus on working on things that may not be prestigious but hold real value and align with his motives.\""
      ]
     },
     "execution_count": 7,
     "metadata": {},
     "output_type": "execute_result"
    }
   ],
   "source": [
    "response.response"
   ]
  },
  {
   "cell_type": "code",
   "execution_count": 8,
   "id": "7f28db53-a96d-431a-aee9-bf16b236f850",
   "metadata": {},
   "outputs": [],
   "source": [
    "# knowledge from contributor 2\n",
    "response = await network_query_engine.aquery(\"What is DoRA?\")"
   ]
  },
  {
   "cell_type": "code",
   "execution_count": 9,
   "id": "03144a51-21ec-4667-858e-81baaea97507",
   "metadata": {},
   "outputs": [
    {
     "data": {
      "text/plain": [
       "'DoRA is a method that enhances the learning capacity of LoRA by introducing incremental directional updates that can be adapted by different LoRA variants. It can be combined with other LoRA variants like VeRA, which reduces trainable parameters significantly while maintaining accuracy. DoRA consistently outperforms LoRA across various rank settings, showcasing its ability to achieve better accuracy with fewer trainable parameters.'"
      ]
     },
     "execution_count": 9,
     "metadata": {},
     "output_type": "execute_result"
    }
   ],
   "source": [
    "response.response"
   ]
  },
  {
   "cell_type": "code",
   "execution_count": 10,
   "id": "bd5849c6-6ebf-4f69-bbd2-d874e2ee80d9",
   "metadata": {},
   "outputs": [],
   "source": [
    "# knowledge from contributor 3\n",
    "response = await network_query_engine.aquery(\"Summarize the history of New York City\")"
   ]
  },
  {
   "cell_type": "code",
   "execution_count": 11,
   "id": "de285ade-451f-407d-a308-685da6b5fcb4",
   "metadata": {},
   "outputs": [
    {
     "data": {
      "text/plain": [
       "\"New York City's history began with Dutch settlement in the early 17th century, evolving into a major port city and immigration hub. It played a crucial role in the American Revolution and briefly served as the national capital. The city's strategic location and economic growth in the 19th and 20th centuries, fueled by European immigrants, solidified its position as a major urban center globally. Today, New York City is renowned for its finance, culture, and diverse population, reflecting its enduring legacy as a city of opportunity and innovation.\""
      ]
     },
     "execution_count": 11,
     "metadata": {},
     "output_type": "execute_result"
    }
   ],
   "source": [
    "response.response"
   ]
  },
  {
   "cell_type": "code",
   "execution_count": null,
   "id": "0f84aacb-96ef-493c-b9c8-d1c313a3d093",
   "metadata": {},
   "outputs": [],
   "source": []
  }
 ],
 "metadata": {
  "kernelspec": {
   "display_name": "mistplay",
   "language": "python",
   "name": "mistplay"
  },
  "language_info": {
   "codemirror_mode": {
    "name": "ipython",
    "version": 3
   },
   "file_extension": ".py",
   "mimetype": "text/x-python",
   "name": "python",
   "nbconvert_exporter": "python",
   "pygments_lexer": "ipython3",
   "version": "3.11.3"
  }
 },
 "nbformat": 4,
 "nbformat_minor": 5
}
