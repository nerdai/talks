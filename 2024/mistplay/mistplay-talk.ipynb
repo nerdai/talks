{
 "cells": [
  {
   "cell_type": "markdown",
   "id": "5ab60f84-39b3-4bdd-ae83-6527acb315e5",
   "metadata": {},
   "source": [
    "# GenAI and LlamaIndex ◦ March 6 2024 ◦ Mistplay"
   ]
  },
  {
   "cell_type": "code",
   "execution_count": 1,
   "id": "2276edc2-74ce-4d85-bdaa-0607c74fc981",
   "metadata": {},
   "outputs": [],
   "source": [
    "##################################################################\n",
    "# Venue: Mistplay Offsite\n",
    "# Talk: GenAI and LlamaIndex\n",
    "# Speaker: Andrei Fajardo\n",
    "##################################################################"
   ]
  },
  {
   "cell_type": "markdown",
   "id": "3bee89b8-a04d-4326-9392-b9e7e1bcb8af",
   "metadata": {},
   "source": [
    "![Title Image](https://d3ddy8balm3goa.cloudfront.net/rag-bootcamp-vector/title.excalidraw.svg)"
   ]
  },
  {
   "cell_type": "markdown",
   "id": "e4d38b38-ea48-4012-81ae-84e1d1f40a69",
   "metadata": {},
   "source": [
    "![Title Image](https://d3ddy8balm3goa.cloudfront.net/rag-bootcamp-vector/framework.excalidraw.svg)"
   ]
  },
  {
   "cell_type": "markdown",
   "id": "34d1f8e7-f978-4f19-bdfb-37c0d235b5bf",
   "metadata": {},
   "source": [
    "#### Notebook Setup & Dependency Installation"
   ]
  },
  {
   "cell_type": "code",
   "execution_count": 1,
   "id": "f227a52a-a147-4e8f-b7d3-e03f983fd5f1",
   "metadata": {
    "scrolled": true
   },
   "outputs": [
    {
     "name": "stdout",
     "output_type": "stream",
     "text": [
      "\n",
      "\u001b[1m[\u001b[0m\u001b[34;49mnotice\u001b[0m\u001b[1;39;49m]\u001b[0m\u001b[39;49m A new release of pip available: \u001b[0m\u001b[31;49m22.3.1\u001b[0m\u001b[39;49m -> \u001b[0m\u001b[32;49m24.0\u001b[0m\n",
      "\u001b[1m[\u001b[0m\u001b[34;49mnotice\u001b[0m\u001b[1;39;49m]\u001b[0m\u001b[39;49m To update, run: \u001b[0m\u001b[32;49mpython3.11 -m pip install --upgrade pip\u001b[0m\n",
      "Note: you may need to restart the kernel to use updated packages.\n"
     ]
    }
   ],
   "source": [
    "%pip install llama-index-vector-stores-qdrant llama-parse -q"
   ]
  },
  {
   "cell_type": "code",
   "execution_count": 1,
   "id": "7bc383fc-19b2-47b5-af61-e83210ea9c37",
   "metadata": {},
   "outputs": [],
   "source": [
    "import nest_asyncio\n",
    "\n",
    "nest_asyncio.apply()"
   ]
  },
  {
   "cell_type": "markdown",
   "id": "275c00f1-e358-498a-88c3-8e810a5a2546",
   "metadata": {},
   "source": [
    "## Motivation\n",
    "\n",
    "![Motivation Image](https://d3ddy8balm3goa.cloudfront.net/rag-bootcamp-vector/motivation.excalidraw.svg)\n"
   ]
  },
  {
   "cell_type": "code",
   "execution_count": 39,
   "id": "25d4ce76-8eea-44cb-aa99-94844dfed9c7",
   "metadata": {},
   "outputs": [],
   "source": [
    "# query an LLM and ask it about Mistplay\n",
    "from llama_index.llms.openai import OpenAI\n",
    "\n",
    "llm = OpenAI(model=\"gpt-4\")\n",
    "response = llm.complete(\"What does Mistplay do?\")"
   ]
  },
  {
   "cell_type": "code",
   "execution_count": 40,
   "id": "c3f18489-4f25-40ce-86e9-697ddea7d6c6",
   "metadata": {},
   "outputs": [
    {
     "name": "stdout",
     "output_type": "stream",
     "text": [
      "Mistplay is a loyalty platform for mobile gamers. Users earn points for playing new games and can exchange them for gift cards or in-game purchases. It also allows users to discover and play new games, participate in contests, and connect with other gamers.\n"
     ]
    }
   ],
   "source": [
    "print(response)"
   ]
  },
  {
   "cell_type": "code",
   "execution_count": 41,
   "id": "80b2f9c3-1e07-4178-9e7e-220355725955",
   "metadata": {},
   "outputs": [],
   "source": [
    "response = llm.complete(\"What is the Mistplay Loyalty Index?\")"
   ]
  },
  {
   "cell_type": "code",
   "execution_count": 42,
   "id": "6a1c6424-cf2f-4ee1-b601-674b03354e35",
   "metadata": {},
   "outputs": [
    {
     "name": "stdout",
     "output_type": "stream",
     "text": [
      "The Mistplay Loyalty Index is a system used by the mobile gaming platform, Mistplay, to measure a player's engagement and loyalty to a particular game. The index is calculated based on various factors such as the amount of time spent playing the game, the frequency of play, and the player's in-game progress. The higher the index, the more rewards the player can earn on the Mistplay platform.\n"
     ]
    }
   ],
   "source": [
    "print(response)"
   ]
  },
  {
   "cell_type": "code",
   "execution_count": 43,
   "id": "632e1dec-045b-42fb-b325-c25e1ec4bb75",
   "metadata": {},
   "outputs": [],
   "source": [
    "response = llm.complete(\"What are the key survey insights from Mistplay's 2023 Mobile Gaming Loyalty Report?\")"
   ]
  },
  {
   "cell_type": "code",
   "execution_count": 44,
   "id": "53efac56-7966-407f-a298-bc2e0e14518e",
   "metadata": {},
   "outputs": [
    {
     "name": "stdout",
     "output_type": "stream",
     "text": [
      "As an AI, I can't provide real-time data or future predictions. As of my last update, it's still 2021, and I don't have access to Mistplay's 2023 Mobile Gaming Loyalty Report. I recommend checking Mistplay's official website or contacting them directly for the most accurate and up-to-date information.\n"
     ]
    }
   ],
   "source": [
    "print(response)"
   ]
  },
  {
   "cell_type": "markdown",
   "id": "04a0ef8d-d55c-4b64-887b-18d343503a76",
   "metadata": {},
   "source": [
    "## Basic RAG in 3 Steps\n",
    "\n",
    "![Divider Image](https://d3ddy8balm3goa.cloudfront.net/rag-bootcamp-vector/subheading.excalidraw.svg)\n",
    "\n",
    "\n",
    "1. Build external knowledge (i.e., uploading updated data sources)\n",
    "2. Retrieve\n",
    "3. Augment and Generate"
   ]
  },
  {
   "cell_type": "markdown",
   "id": "598a5257-20ae-468e-85d6-d4e8c46b8cb5",
   "metadata": {},
   "source": [
    "## 1. Build External Knowledge\n",
    "\n",
    "![Divider Image](https://d3ddy8balm3goa.cloudfront.net/rag-bootcamp-vector/step1.excalidraw.svg)"
   ]
  },
  {
   "cell_type": "code",
   "execution_count": 45,
   "id": "a2963f90-9da5-4a0d-8dbe-f16fcb8627a3",
   "metadata": {},
   "outputs": [],
   "source": [
    "\"\"\"Load the data.\n",
    "\n",
    "With llama-index, before any transformations are applied,\n",
    "data is loaded in the `Document` abstraction, which is\n",
    "a container that holds the text of the document.\n",
    "\"\"\"\n",
    "\n",
    "from llama_index.core import SimpleDirectoryReader\n",
    "\n",
    "loader = SimpleDirectoryReader(input_dir=\"./data\")\n",
    "documents = loader.load_data()"
   ]
  },
  {
   "cell_type": "code",
   "execution_count": 46,
   "id": "da321e2c-8428-4c04-abf2-b204416e816f",
   "metadata": {},
   "outputs": [
    {
     "data": {
      "text/plain": [
       "\"2023\\u2028\\nMobile Gaming \\u2028\\nLoyalty Report\\u2028\\nDiscover what drives engagement and fosters \\nstrong loyalty among today's mobile gamers\\n\""
      ]
     },
     "execution_count": 46,
     "metadata": {},
     "output_type": "execute_result"
    }
   ],
   "source": [
    "# if you want to see what the text looks like\n",
    "documents[0].text[:1000]"
   ]
  },
  {
   "cell_type": "code",
   "execution_count": 47,
   "id": "4801e74a-8c52-45c4-967d-7a1a94f54ad3",
   "metadata": {},
   "outputs": [],
   "source": [
    "\"\"\"Chunk, Encode, and Store into a Vector Store.\n",
    "\n",
    "To streamline the process, we can make use of the IngestionPipeline\n",
    "class that will apply your specified transformations to the\n",
    "Document's.\n",
    "\"\"\"\n",
    "\n",
    "from llama_index.core.ingestion import IngestionPipeline\n",
    "from llama_index.core.node_parser import SentenceSplitter\n",
    "from llama_index.embeddings.openai import OpenAIEmbedding\n",
    "from llama_index.vector_stores.qdrant import QdrantVectorStore\n",
    "import qdrant_client\n",
    "\n",
    "client = qdrant_client.QdrantClient(location=\":memory:\")\n",
    "vector_store = QdrantVectorStore(client=client, collection_name=\"test_store\")\n",
    "\n",
    "pipeline = IngestionPipeline(\n",
    "    transformations = [\n",
    "        SentenceSplitter(),\n",
    "        OpenAIEmbedding(),\n",
    "    ],\n",
    "    vector_store=vector_store,\n",
    ")\n",
    "_nodes = pipeline.run(documents=documents, num_workers=4)"
   ]
  },
  {
   "cell_type": "code",
   "execution_count": 48,
   "id": "02afea25-098b-49c7-a965-21c7576757af",
   "metadata": {},
   "outputs": [
    {
     "data": {
      "text/plain": [
       "\"2023\\u2028\\nMobile Gaming \\u2028\\nLoyalty Report\\u2028\\nDiscover what drives engagement and fosters \\nstrong loyalty among today's mobile gamers\""
      ]
     },
     "execution_count": 48,
     "metadata": {},
     "output_type": "execute_result"
    }
   ],
   "source": [
    "# if you want to see the nodes\n",
    "# len(_nodes)\n",
    "_nodes[0].text"
   ]
  },
  {
   "cell_type": "code",
   "execution_count": 49,
   "id": "44cd8a86-089d-4329-9484-35b98b3a26f9",
   "metadata": {},
   "outputs": [],
   "source": [
    "\"\"\"Create a llama-index... wait for it... Index.\n",
    "\n",
    "After uploading your encoded documents into your vector\n",
    "store of choice, you can connect to it with a VectorStoreIndex\n",
    "which then gives you access to all of the llama-index functionality.\n",
    "\"\"\"\n",
    "\n",
    "from llama_index.core import VectorStoreIndex\n",
    "\n",
    "index = VectorStoreIndex.from_vector_store(vector_store=vector_store)"
   ]
  },
  {
   "cell_type": "markdown",
   "id": "286b1827-7547-49c6-aba3-82f08d6d86b8",
   "metadata": {},
   "source": [
    "## 2. Retrieve Against A Query\n",
    "\n",
    "![Step2 Image](https://d3ddy8balm3goa.cloudfront.net/rag-bootcamp-vector/step2.excalidraw.svg)"
   ]
  },
  {
   "cell_type": "code",
   "execution_count": 50,
   "id": "49f86af1-db08-4641-89ad-d60abd04e6b3",
   "metadata": {},
   "outputs": [],
   "source": [
    "\"\"\"Retrieve relevant documents against a query.\n",
    "\n",
    "With our Index ready, we can now query it to\n",
    "retrieve the most relevant document chunks.\n",
    "\"\"\"\n",
    "\n",
    "retriever = index.as_retriever(similarity_top_k=2)\n",
    "retrieved_nodes = retriever.retrieve(\"What are the key survey insights from Mistplay's 2023 Mobile Gaming Loyalty Report?\")"
   ]
  },
  {
   "cell_type": "code",
   "execution_count": 51,
   "id": "05f9ce3b-a4e3-4862-b58c-2d9fba1f9abc",
   "metadata": {},
   "outputs": [
    {
     "name": "stdout",
     "output_type": "stream",
     "text": [
      "3 % ) .  A s  p l a y e r s  p r o g r e s s ,  t h e y  \n",
      "a l s o  e n j o y  s e e i n g  t h e  n e w e s t  f e a t u r e s  a n d  u p d a t e s  a d d e d  t o  t h e  g a m e ,  w i t h  3 7 . 7 %  o f  p l a y e r s  c i t i n g  i t  a s  a  r e a s o n  f o r  r e t u r n i n g .  B u i l d i n g  c o r e  g a m e p l a y  l o o p s  t h a t  p r o v i d e  m e a n i n g f u l  a n d  v i s i b l e  p r o g r e s s i o n  –  c o m p l e t i n g  l e v e l s ,  u n l o c k i n g  n e w  \n"
     ]
    }
   ],
   "source": [
    "# to view the retrieved node\n",
    "print(retrieved_nodes[0].text[:500])"
   ]
  },
  {
   "cell_type": "markdown",
   "id": "978ae2c5-8c2a-41c7-a2eb-85a5562f2db5",
   "metadata": {},
   "source": [
    "## 3. Generate Final Response\n",
    "\n",
    "![Step3 Image](https://d3ddy8balm3goa.cloudfront.net/rag-bootcamp-vector/step3.excalidraw.svg)"
   ]
  },
  {
   "cell_type": "code",
   "execution_count": 52,
   "id": "ef33c349-eed4-4e35-9b5d-9473adf2ce01",
   "metadata": {},
   "outputs": [],
   "source": [
    "\"\"\"Context-Augemented Generation.\n",
    "\n",
    "With our Index ready, we can create a QueryEngine\n",
    "that handles the retrieval and context augmentation\n",
    "in order to get the final response.\n",
    "\"\"\"\n",
    "\n",
    "query_engine = index.as_query_engine()"
   ]
  },
  {
   "cell_type": "code",
   "execution_count": 16,
   "id": "4139c48a-ece8-4244-b4eb-7cff74cb1325",
   "metadata": {},
   "outputs": [
    {
     "name": "stdout",
     "output_type": "stream",
     "text": [
      "Context information is below.\n",
      "---------------------\n",
      "{context_str}\n",
      "---------------------\n",
      "Given the context information and not prior knowledge, answer the query.\n",
      "Query: {query_str}\n",
      "Answer: \n"
     ]
    }
   ],
   "source": [
    "# to inspect the default prompt being used\n",
    "print(query_engine.\n",
    "      get_prompts()[\"response_synthesizer:text_qa_template\"]\n",
    "      .default_template.template\n",
    ")"
   ]
  },
  {
   "cell_type": "code",
   "execution_count": 53,
   "id": "6179639d-af96-4a09-b440-b47ad599a26f",
   "metadata": {},
   "outputs": [
    {
     "name": "stdout",
     "output_type": "stream",
     "text": [
      "The key survey insights from Mistplay's 2023 Mobile Gaming Loyalty Report include motivations for continuing to play favorite games, such as the desire to keep progressing and reach new milestones, not wanting to abandon progress and achievements, enjoying new features and content updates, enjoying the competitiveness of the game and mastering skill levels, spending money in the games, believing the game is the best in its genre, playing because friends and/or family also play, and participating in the game's community. Additionally, the report highlights that mobile game advertising is the most successful method for players to discover new games, with nearly half relying on ads as a primary method, followed by app store exploration and direct recommendations from friends or family.\n"
     ]
    }
   ],
   "source": [
    "response = query_engine.query(\"What are the key survey insights from Mistplay's 2023 Mobile Gaming Loyalty Report?\")\n",
    "print(response)"
   ]
  },
  {
   "cell_type": "markdown",
   "id": "a050bb7f-266c-46c7-8773-eccb909e5fd6",
   "metadata": {},
   "source": [
    "## Beyond Basic RAG: Improved PDF Parsing with LlamaParse"
   ]
  },
  {
   "cell_type": "markdown",
   "id": "a4a08bc5-1ff9-42f5-91a3-f77f3a529ff1",
   "metadata": {},
   "source": [
    "### The default pdf reader (PyPDF), like many out-of-the box pdf parsers struggle on complex PDF docs."
   ]
  },
  {
   "cell_type": "code",
   "execution_count": 28,
   "id": "32b6d6bd-f04a-400a-99ac-b9c0308c7554",
   "metadata": {},
   "outputs": [
    {
     "name": "stdout",
     "output_type": "stream",
     "text": [
      "The three listed key index insights from Mistplay's 2023 Mobile Gaming Loyalty Report are Loyalty Index, Loyalty Ratings, and Monetization Metrics.\n"
     ]
    }
   ],
   "source": [
    "response = query_engine.query(\"What are the three listed key index insights from Mistplay's 2023 Mobile Gaming Loyalty Report?\")\n",
    "print(response)"
   ]
  },
  {
   "cell_type": "code",
   "execution_count": 36,
   "id": "40e70776-611d-4b52-bd89-3f233cdaa9c5",
   "metadata": {},
   "outputs": [
    {
     "name": "stdout",
     "output_type": "stream",
     "text": [
      "RPG has the highest loyalty index value, followed by Strategy and Simulation in the top 3 categories of games according to Mistplay's 2023 Mobile Gaming Loyalty Report.\n"
     ]
    }
   ],
   "source": [
    "response = query_engine.query(\"What are the top 3 categories of games which get the most loyalty (and list their index values) according to Mistplay's 2023 Mobile Gaming Loyalty Report?\")\n",
    "print(response)"
   ]
  },
  {
   "cell_type": "markdown",
   "id": "3895970c-dae2-4ae3-b48d-72da7617fcd3",
   "metadata": {},
   "source": [
    "### Improved PDF Parsing using LlamaParse"
   ]
  },
  {
   "cell_type": "code",
   "execution_count": 23,
   "id": "ad81e2cf-90b6-49af-b36e-2f896abec0c8",
   "metadata": {},
   "outputs": [
    {
     "name": "stdout",
     "output_type": "stream",
     "text": [
      "Started parsing the file under job_id e256d886-1db2-449a-aaca-5d64200286ba\n",
      "....................."
     ]
    }
   ],
   "source": [
    "from llama_parse import LlamaParse\n",
    "\n",
    "parser = LlamaParse(result_type=\"markdown\")\n",
    "documents = parser.load_data(file_path=\"./data/2023 Mobile Gaming Loyalty Report by Mistplay-3.pdf\")"
   ]
  },
  {
   "cell_type": "code",
   "execution_count": 24,
   "id": "efaed5ae-9c87-4670-b571-9dff91b06cea",
   "metadata": {},
   "outputs": [],
   "source": [
    "llama_parse_index = VectorStoreIndex.from_documents(documents)\n",
    "llama_parse_query_engine = llama_parse_index.as_query_engine()"
   ]
  },
  {
   "cell_type": "code",
   "execution_count": 54,
   "id": "3e54ff4a-22d8-45b4-b27c-84387ff7b4bb",
   "metadata": {},
   "outputs": [
    {
     "name": "stdout",
     "output_type": "stream",
     "text": [
      "Players are motivated by play-and-earn. Word of mouth is a top-3 acquisition source. Players play multiple games simultaneously but only spend money on a few. Additionally, players are interested in games where they can play and earn tangible rewards, with a significant percentage willing to switch from their current favorite game for this feature.\n"
     ]
    }
   ],
   "source": [
    "response = llama_parse_query_engine.query(\"What are the key survey insights from Mistplay's 2023 Mobile Gaming Loyalty Report?\")\n",
    "print(response)"
   ]
  },
  {
   "cell_type": "code",
   "execution_count": 29,
   "id": "328ee422-cd6d-4d5d-bfe9-da5e878f85a5",
   "metadata": {},
   "outputs": [
    {
     "name": "stdout",
     "output_type": "stream",
     "text": [
      "RPG games garner the most loyalty. Strategy games drive average sessions per user. Lifestyle games see the highest repeat purchases.\n"
     ]
    }
   ],
   "source": [
    "response = llama_parse_query_engine.query(\"What are the three listed key index insights from Mistplay's 2023 Mobile Gaming Loyalty Report?\")\n",
    "print(response)"
   ]
  },
  {
   "cell_type": "code",
   "execution_count": 35,
   "id": "516c2d0f-c621-40fc-b7a7-17ffc28d2713",
   "metadata": {},
   "outputs": [
    {
     "name": "stdout",
     "output_type": "stream",
     "text": [
      "RPG games have the highest loyalty rating of 75, followed by Strategy games with a loyalty rating of 70, and Simulation games with a loyalty rating of 67.\n"
     ]
    }
   ],
   "source": [
    "response = llama_parse_query_engine.query(\"What are the top 3 categories of games which get the most loyalty (and list their index values) according to Mistplay's 2023 Mobile Gaming Loyalty Report?\")\n",
    "print(response)"
   ]
  },
  {
   "cell_type": "markdown",
   "id": "dae63946-be38-4807-af2a-8113661a806b",
   "metadata": {},
   "source": [
    "## In Summary\n",
    "\n",
    "- LLMs as powerful as they are, don't perform too well with knowledge-intensive tasks (domain specific, updated data, long-tail)\n",
    "- Context augmentation has been shown (in a few studies) to outperform LLMs without augmentation\n",
    "- In this notebook, we showed one such example that follows that pattern."
   ]
  },
  {
   "cell_type": "markdown",
   "id": "fc857227-3fed-4bb6-a062-99ea3c55e294",
   "metadata": {},
   "source": [
    "# LlamaIndex Has More To Offer\n",
    "\n",
    "- Data infrastructure that enables production-grade, advanced RAG systems\n",
    "- Agentic solutions\n",
    "- Newly released: `llama-index-networks`\n",
    "- Enterprise offerings (alpha):\n",
    "    - LlamaParse (proprietary complex PDF parser) and\n",
    "    - LlamaCloud"
   ]
  },
  {
   "cell_type": "markdown",
   "id": "17c1c027-be8b-48f4-87ee-06f3e2c71797",
   "metadata": {},
   "source": [
    "### Useful links\n",
    "\n",
    "[website](https://www.llamaindex.ai/) ◦ [llamahub](https://llamahub.ai) ◦ [llamaparse](https://github.com/run-llama/llama_parse) ◦ [github](https://github.com/run-llama/llama_index) ◦ [medium](https://medium.com/@llama_index) ◦ [rag-bootcamp-poster](https://d3ddy8balm3goa.cloudfront.net/rag-bootcamp-vector/final_poster.excalidraw.svg)"
   ]
  },
  {
   "cell_type": "code",
   "execution_count": null,
   "id": "4876f95e-0a1c-4fcf-b155-c8ed688f6649",
   "metadata": {},
   "outputs": [],
   "source": []
  }
 ],
 "metadata": {
  "kernelspec": {
   "display_name": "mistplay",
   "language": "python",
   "name": "mistplay"
  },
  "language_info": {
   "codemirror_mode": {
    "name": "ipython",
    "version": 3
   },
   "file_extension": ".py",
   "mimetype": "text/x-python",
   "name": "python",
   "nbconvert_exporter": "python",
   "pygments_lexer": "ipython3",
   "version": "3.11.3"
  }
 },
 "nbformat": 4,
 "nbformat_minor": 5
}
